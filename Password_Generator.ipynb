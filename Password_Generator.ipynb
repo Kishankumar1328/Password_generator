{
  "nbformat": 4,
  "nbformat_minor": 0,
  "metadata": {
    "colab": {
      "provenance": [],
      "authorship_tag": "ABX9TyPkBrjhc7FF1kbnsx7J7F46",
      "include_colab_link": true
    },
    "kernelspec": {
      "name": "python3",
      "display_name": "Python 3"
    },
    "language_info": {
      "name": "python"
    }
  },
  "cells": [
    {
      "cell_type": "markdown",
      "metadata": {
        "id": "view-in-github",
        "colab_type": "text"
      },
      "source": [
        "<a href=\"https://colab.research.google.com/github/Kishankumar1328/Password_generator/blob/main/Password_Generator.ipynb\" target=\"_parent\"><img src=\"https://colab.research.google.com/assets/colab-badge.svg\" alt=\"Open In Colab\"/></a>"
      ]
    },
    {
      "cell_type": "code",
      "execution_count": 10,
      "metadata": {
        "id": "FnlnuJoeqWKj"
      },
      "outputs": [],
      "source": [
        "import random\n",
        "import string"
      ]
    },
    {
      "cell_type": "code",
      "source": [
        "length=int(input(\"Enter the number:\"))"
      ],
      "metadata": {
        "colab": {
          "base_uri": "https://localhost:8080/"
        },
        "id": "g4bGV4N2qwOC",
        "outputId": "7dc8f37d-a513-457f-c1cb-260e694d69d0"
      },
      "execution_count": 26,
      "outputs": [
        {
          "name": "stdout",
          "output_type": "stream",
          "text": [
            "Enter the number:16\n"
          ]
        }
      ]
    },
    {
      "cell_type": "code",
      "source": [
        "lower=string.ascii_lowercase\n",
        "upper=string.ascii_uppercase\n",
        "number=string.digits\n",
        "symbol=string.punctuation"
      ],
      "metadata": {
        "id": "-o774Q05rFTx"
      },
      "execution_count": 29,
      "outputs": []
    },
    {
      "cell_type": "code",
      "source": [
        "combination=lower+upper+number+symbol\n"
      ],
      "metadata": {
        "id": "GHd7klqvrx7o"
      },
      "execution_count": 30,
      "outputs": []
    },
    {
      "cell_type": "code",
      "source": [
        "temp=random.sample(combination,length)\n",
        "password=\"\".join(temp)"
      ],
      "metadata": {
        "id": "iecSNKpSteiC"
      },
      "execution_count": 31,
      "outputs": []
    },
    {
      "cell_type": "code",
      "source": [
        "print(password)"
      ],
      "metadata": {
        "colab": {
          "base_uri": "https://localhost:8080/"
        },
        "id": "mHjddml5tsM0",
        "outputId": "af95740f-07ee-4fd8-f923-383892fa4e16"
      },
      "execution_count": 32,
      "outputs": [
        {
          "output_type": "stream",
          "name": "stdout",
          "text": [
            "XV71<:p0sBtay#cj\n"
          ]
        }
      ]
    },
    {
      "cell_type": "code",
      "source": [
        "size_of_the_password=int(input(\"Enter the number:\"))\n",
        "combination=string.ascii_uppercase+string.ascii_lowercase+string.digits+string.punctuation\n",
        "password=\"\".join(random.sample(combination,size_of_the_password))\n",
        "print(password)"
      ],
      "metadata": {
        "colab": {
          "base_uri": "https://localhost:8080/"
        },
        "id": "Zc0e5BfCuA3P",
        "outputId": "d6499172-2fd2-4fa9-8a30-f749d7d33d99"
      },
      "execution_count": 34,
      "outputs": [
        {
          "output_type": "stream",
          "name": "stdout",
          "text": [
            "Enter the number:13\n",
            "uFap'o}dxO`e{\n"
          ]
        }
      ]
    }
  ]
}